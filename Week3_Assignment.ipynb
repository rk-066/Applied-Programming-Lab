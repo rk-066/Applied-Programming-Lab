{
 "cells": [
  {
   "cell_type": "markdown",
   "id": "6dbe0683",
   "metadata": {},
   "source": [
    "### Import Libraries"
   ]
  },
  {
   "cell_type": "code",
   "execution_count": 42,
   "id": "07cd5098",
   "metadata": {},
   "outputs": [],
   "source": [
    "# write your code here"
   ]
  },
  {
   "cell_type": "markdown",
   "id": "384583a0",
   "metadata": {},
   "source": [
    "### Read the data "
   ]
  },
  {
   "cell_type": "code",
   "execution_count": 21,
   "id": "2cf0d86e",
   "metadata": {},
   "outputs": [],
   "source": [
    "# write your code here"
   ]
  },
  {
   "cell_type": "markdown",
   "id": "f84fe65b",
   "metadata": {},
   "source": [
    "### Print number of Rows and Columns"
   ]
  },
  {
   "cell_type": "code",
   "execution_count": 4,
   "id": "d3ed61de",
   "metadata": {},
   "outputs": [],
   "source": [
    "# write your code here"
   ]
  },
  {
   "cell_type": "markdown",
   "id": "e8965184",
   "metadata": {},
   "source": [
    "### Print the number of null values in each column"
   ]
  },
  {
   "cell_type": "code",
   "execution_count": 2,
   "id": "c0683940",
   "metadata": {},
   "outputs": [],
   "source": [
    "# write your code here"
   ]
  },
  {
   "cell_type": "markdown",
   "id": "85f1e831",
   "metadata": {},
   "source": [
    "### Fill the columns having Null values with their median value"
   ]
  },
  {
   "cell_type": "code",
   "execution_count": 3,
   "id": "325603d1",
   "metadata": {
    "scrolled": true
   },
   "outputs": [],
   "source": [
    "# write your code here"
   ]
  },
  {
   "cell_type": "markdown",
   "id": "5fef9bd5",
   "metadata": {},
   "source": [
    "### One Hot Encode the Categorical Column"
   ]
  },
  {
   "cell_type": "code",
   "execution_count": 28,
   "id": "6f35a659",
   "metadata": {},
   "outputs": [],
   "source": [
    "# write your code here"
   ]
  },
  {
   "cell_type": "markdown",
   "id": "9cccb4ea",
   "metadata": {},
   "source": [
    "### Divide the data into X(feature column) and y(target column)"
   ]
  },
  {
   "cell_type": "code",
   "execution_count": 29,
   "id": "ac8c0673",
   "metadata": {},
   "outputs": [],
   "source": [
    "# write your code here"
   ]
  },
  {
   "cell_type": "markdown",
   "id": "1372cc17",
   "metadata": {},
   "source": [
    "### Perform train test split on the dataset"
   ]
  },
  {
   "cell_type": "code",
   "execution_count": 30,
   "id": "b51c6752",
   "metadata": {},
   "outputs": [],
   "source": [
    "# write your code here"
   ]
  },
  {
   "cell_type": "markdown",
   "id": "fee34214",
   "metadata": {},
   "source": [
    "### Perform the task e and f given in the pdf file"
   ]
  },
  {
   "cell_type": "code",
   "execution_count": 1,
   "id": "2623746d",
   "metadata": {},
   "outputs": [],
   "source": [
    "# write your code here"
   ]
  }
 ],
 "metadata": {
  "kernelspec": {
   "display_name": "Python 3 (ipykernel)",
   "language": "python",
   "name": "python3"
  },
  "language_info": {
   "codemirror_mode": {
    "name": "ipython",
    "version": 3
   },
   "file_extension": ".py",
   "mimetype": "text/x-python",
   "name": "python",
   "nbconvert_exporter": "python",
   "pygments_lexer": "ipython3",
   "version": "3.9.12"
  }
 },
 "nbformat": 4,
 "nbformat_minor": 5
}
