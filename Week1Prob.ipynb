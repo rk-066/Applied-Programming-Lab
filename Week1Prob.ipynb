{
 "cells": [
  {
   "cell_type": "markdown",
   "id": "bc66b3b5-035d-4397-af1d-5c64e180632f",
   "metadata": {},
   "source": [
    "# Document metadata\n",
    "\n",
    "> *Problem statement: modify this document so that the author name reflects your name and roll number.  Explain the changes you needed to make here.  If you use other approaches such as LaTeX to generate the PDF, explain the differences between the notebook approach and what you have used.*"
   ]
  },
  {
   "cell_type": "markdown",
   "id": "2c0d5abc",
   "metadata": {},
   "source": [
    "In order to change the author name, we need to edit the metadata of the notebook.\n",
    "To edit the metadata of the notebook: Edit >> Edit Notebook Metadata , then edit the \"author's name\" attribute in it."
   ]
  },
  {
   "cell_type": "markdown",
   "id": "47576f05-90e1-4c8b-b75b-13ebffe95171",
   "metadata": {},
   "source": [
    "# Basic Data Types\n",
    "\n",
    "Here we have a series of small problems involving various basic data types in Python.  You are required to complete the code where required, and give *brief* explanations of your answers.  Remember that the documentation and explanation is as important as the answer.\n",
    "\n",
    "For each of the following cells, first execute them, and then give a brief explanation of why the answer comes out to be the way it does.  If there is an error during execution of the cell, explain how you fixed it.  **Add a new cell of type Markdown with the explanation** after the corresponding cell.  If you are using plain Python, add suitable comments after each line and explain this in the documentation (clearly you would be better off using Notebooks here)."
   ]
  },
  {
   "cell_type": "markdown",
   "id": "90d271f4",
   "metadata": {},
   "source": [
    "## Numerical types"
   ]
  },
  {
   "cell_type": "code",
   "execution_count": 1,
   "id": "1e2d2e6e",
   "metadata": {},
   "outputs": [
    {
     "name": "stdout",
     "output_type": "stream",
     "text": [
      "2.4\n"
     ]
    }
   ],
   "source": [
    "print(12 / 5)"
   ]
  },
  {
   "cell_type": "markdown",
   "id": "f4a9c78d",
   "metadata": {},
   "source": [
    "- In general the output of a division operation in python is 'float' until and unless you use 'int()' or the operator '//'.\n",
    "- print function prints the result to the screen."
   ]
  },
  {
   "cell_type": "code",
   "execution_count": 2,
   "id": "1b587eb7",
   "metadata": {},
   "outputs": [
    {
     "name": "stdout",
     "output_type": "stream",
     "text": [
      "2\n"
     ]
    }
   ],
   "source": [
    "print(12 // 5)"
   ]
  },
  {
   "cell_type": "markdown",
   "id": "e70e556f",
   "metadata": {},
   "source": [
    "- The operator // is used to return the quotient.We can achieve this in the following way too."
   ]
  },
  {
   "cell_type": "code",
   "execution_count": 3,
   "id": "4e2bfa1f",
   "metadata": {},
   "outputs": [
    {
     "name": "stdout",
     "output_type": "stream",
     "text": [
      "2\n"
     ]
    }
   ],
   "source": [
    "print(int(12//5))"
   ]
  },
  {
   "cell_type": "code",
   "execution_count": 4,
   "id": "97a6c535",
   "metadata": {},
   "outputs": [
    {
     "name": "stdout",
     "output_type": "stream",
     "text": [
      "10 10 1.0\n"
     ]
    }
   ],
   "source": [
    "a=b=10\n",
    "print(a,b,a/b)"
   ]
  },
  {
   "cell_type": "markdown",
   "id": "55d84abd",
   "metadata": {},
   "source": [
    "- As mentioned earlier, by default pyhton returns the result of a division in the float data type"
   ]
  },
  {
   "cell_type": "markdown",
   "id": "af329d1c",
   "metadata": {},
   "source": [
    "## Strings and related operations"
   ]
  },
  {
   "cell_type": "code",
   "execution_count": 5,
   "id": "ba913542",
   "metadata": {},
   "outputs": [
    {
     "name": "stdout",
     "output_type": "stream",
     "text": [
      "Hello \n"
     ]
    }
   ],
   "source": [
    "a = \"Hello \"\n",
    "print(a)"
   ]
  },
  {
   "cell_type": "markdown",
   "id": "55b39d44",
   "metadata": {},
   "source": [
    "- Here the variable 'a' is assigned with the string \"Hello \". \n",
    "- The strings values will be within single quotes ' ' or double quotes \" \".\n",
    "- As we observe here, the previous value of 'a' was an integer and now the value of 'a' is a string data type.This tells us that the data type of the variable is purely dependent on the assigned value."
   ]
  },
  {
   "cell_type": "code",
   "execution_count": 6,
   "id": "ad0e046b",
   "metadata": {},
   "outputs": [
    {
     "ename": "TypeError",
     "evalue": "can only concatenate str (not \"int\") to str",
     "output_type": "error",
     "traceback": [
      "\u001b[1;31m---------------------------------------------------------------------------\u001b[0m",
      "\u001b[1;31mTypeError\u001b[0m                                 Traceback (most recent call last)",
      "Input \u001b[1;32mIn [6]\u001b[0m, in \u001b[0;36m<cell line: 1>\u001b[1;34m()\u001b[0m\n\u001b[1;32m----> 1\u001b[0m \u001b[38;5;28mprint\u001b[39m(\u001b[43ma\u001b[49m\u001b[38;5;241;43m+\u001b[39;49m\u001b[43mb\u001b[49m)\n",
      "\u001b[1;31mTypeError\u001b[0m: can only concatenate str (not \"int\") to str"
     ]
    }
   ],
   "source": [
    "print(a+b)  # Output should contain \"Hello 10\" "
   ]
  },
  {
   "cell_type": "markdown",
   "id": "7d8ed575",
   "metadata": {},
   "source": [
    "- As mentioned in the error, string can only concatenate with other string.\n",
    "- Concatenation is nothing but 'combining'.\n",
    "- Strings can be concatenated in different ways.One of those is using the operator '+'.\n",
    "- The data type of b is an integer. So, it throws an error."
   ]
  },
  {
   "cell_type": "code",
   "execution_count": 7,
   "id": "5d166b9a",
   "metadata": {},
   "outputs": [
    {
     "name": "stdout",
     "output_type": "stream",
     "text": [
      "Hello 10\n",
      "<class 'int'>\n"
     ]
    }
   ],
   "source": [
    "print(a+str(b))\n",
    "print(type(b))"
   ]
  },
  {
   "cell_type": "markdown",
   "id": "4595a8ad",
   "metadata": {},
   "source": [
    "- I fixed the error as shown above.\n",
    "- str() function converts the specified value into string and returns it.\n",
    "- Here 'a' is concatenated with the string form of 'b', but it doesn't change the data type of 'b'.\n",
    "- As 'b' is not assigned with the return value of str(b) function, it's not going to effect the data type of b.\n",
    "- Concatenation is also done in the order u add the strings.In this example as it is a+b, it returns the value in which 'b' is joined at the end of 'a'."
   ]
  },
  {
   "cell_type": "code",
   "execution_count": 8,
   "id": "e2793fa4",
   "metadata": {},
   "outputs": [
    {
     "name": "stdout",
     "output_type": "stream",
     "text": [
      "----------------------------------------42*-*-*-*-*-*-*-*-*-*-*-*-*-*-*-*-*-*-*-*-"
     ]
    }
   ],
   "source": [
    "# Print out a line of 40 '-' signs (to look like one long line)\n",
    "for i in range(40): print(\"-\",end='')\n",
    "# Then print the number 42 so that it is right justified to the end of \n",
    "# the above line\n",
    "print(42,end='')\n",
    "# Then print one more line of length 40, but with the pattern '*-*-*-' \n",
    "for i in range(20): print(\"*-\",end='')"
   ]
  },
  {
   "cell_type": "markdown",
   "id": "0d8ea108",
   "metadata": {},
   "source": [
    "- The above one can be done by using a variable too. But, I preferred to just print it to the screen. So, no variable is taken and the result is not stored.\n",
    "- Here, I used a for loop to print repeated. In python by default, the print function has the 'end' attribute as 'new line'.\n",
    "- The attribute 'end' in print function refers with what the the message should be ended with after it got printed.\n",
    "- In order to avoid a new line, as it has to has to print everything in a single line, the end is assigned with an empty string (''). Such that every thing gets printed in a single line."
   ]
  },
  {
   "cell_type": "code",
   "execution_count": 9,
   "id": "9b4e1f03",
   "metadata": {},
   "outputs": [
    {
     "name": "stdout",
     "output_type": "stream",
     "text": [
      "The variable 'a' has the value Hello  and 'b' has the value         10\n"
     ]
    }
   ],
   "source": [
    "print(f\"The variable 'a' has the value {a} and 'b' has the value {b:>10}\")"
   ]
  },
  {
   "cell_type": "markdown",
   "id": "c4d15168",
   "metadata": {},
   "source": [
    "- The above one is called an F-string or Literal interpolation string.\n",
    "- These are mainly used for formatting the strings/ interpolating the strings\n",
    "- The curly brackets are placeholders, it take the value of the parameter mentioned in it.\n",
    "- The operator '>' is used to right align the text in the field.So, 'b'is right justified to 10 spaces."
   ]
  },
  {
   "cell_type": "code",
   "execution_count": 10,
   "id": "9d746f81",
   "metadata": {},
   "outputs": [
    {
     "name": "stdout",
     "output_type": "stream",
     "text": [
      "EE2703                     Applied Programming Lab\n",
      "EE2003                       Computer Organization\n",
      "EE5131                           Digital IC Design\n"
     ]
    }
   ],
   "source": [
    "# Create a list of dictionaries where each entry in the list has two keys:\n",
    "# - id: this will be the ID number of a course, for example 'EE2703'\n",
    "# - name: this will be the name, for example 'Applied Programming Lab'\n",
    "# Add 3 entries:\n",
    "# EE2703 -> Applied Programming Lab\n",
    "# EE2003 -> Computer Organization\n",
    "# EE5311 -> Digital IC Design\n",
    "# Then print out the entries in a neatly formatted table where the \n",
    "# ID number is left justified\n",
    "# to 10 spaces and the name is right justified to 40 spaces.  \n",
    "# That is it should look like:\n",
    "\n",
    "# EE2703                     Applied Programming Lab\n",
    "# EE2003                       Computer Organization\n",
    "# EE5131                           Digital IC Design\n",
    "list_of_dictionaries=[]\n",
    "list_of_dictionaries.append({'id':\"EE2703\",'name':\"Applied Programming Lab\"})\n",
    "list_of_dictionaries.append({'id':\"EE2003\",'name':\"Computer Organization\"})\n",
    "list_of_dictionaries.append({'id':\"EE5131\",'name':\"Digital IC Design\"})\n",
    "for i in list_of_dictionaries:\n",
    "    print(f\"{i['id']:<10}{i['name']:>40}\")"
   ]
  },
  {
   "cell_type": "markdown",
   "id": "42dff490",
   "metadata": {},
   "source": [
    "- Here, I created an empty list to store dictionaries.\n",
    "- Then using 'append', I added the dictionaries to the list_of_dictionaries.\n",
    "- Here I used F-Strings to get the desired output.\n",
    "- I used a for loop to access every dictionary in the list_of_dictionaries and I aligned the id of every dictionary to the left 10 spaces by using '<' operator and the name is aligned to the right 40 spaces by using '>'.\n",
    "- If we want to align a text in the middle of the field, '^' operator is used in F-Strings."
   ]
  },
  {
   "cell_type": "code",
   "execution_count": 11,
   "id": "a505b6a0",
   "metadata": {},
   "outputs": [
    {
     "name": "stdout",
     "output_type": "stream",
     "text": [
      "EE2703                     Applied Programming Lab\n",
      "EE2003                       Computer Organization\n",
      "EE5131                           Digital IC Design\n"
     ]
    }
   ],
   "source": [
    "#the other way of doing the above one.\n",
    "for i in list_of_dictionaries:\n",
    "    print(i['id'].ljust(10)+i['name'].rjust(40))"
   ]
  },
  {
   "cell_type": "markdown",
   "id": "4d055564",
   "metadata": {},
   "source": [
    "- I used built-in functions instead of f-strings and in order to concatenate the two strings, '+' operator is used.\n",
    "- str.center(thickness,char) is used to align the str in the field of thickness and the ramining space in the field is filled with character char.\n",
    "- Similarly rjust is used to right align whereas ljust is used to align to the left of the field."
   ]
  },
  {
   "cell_type": "markdown",
   "id": "959169d6",
   "metadata": {},
   "source": [
    "# Functions for general manipulation"
   ]
  },
  {
   "cell_type": "code",
   "execution_count": 12,
   "id": "fb799573",
   "metadata": {},
   "outputs": [
    {
     "name": "stdout",
     "output_type": "stream",
     "text": [
      "1111111111110110\n"
     ]
    }
   ],
   "source": [
    "# Write a function with name 'twosc' that will take a single integer \n",
    "# as input, and print out the binary representation of the number \n",
    "# as output.  The function should take one other optional parameter N \n",
    "# which represents the number of bits.  The final result should always \n",
    "# contain N characters as output (either 0 or 1) and should use \n",
    "# two's complement to represent the number if it is negative.\n",
    "# Examples:\n",
    "# twosc(10): 0000000000001010\n",
    "# twosc(-10): 1111111111110110\n",
    "# twosc(-20, 8): 11101100\n",
    "#\n",
    "# Use only functions from the Python standard library to do this.\n",
    "def twosc(x, N=16):\n",
    "    if x>=0 :print((bin(x)[2:]).rjust(N,'0'))\n",
    "    else:\n",
    "        pos_val=(bin(-x)[2:]).rjust(N,'0')\n",
    "        neg_val=[bin(int(y)^1)[2:] for y in pos_val]\n",
    "        one_comp_dec=0\n",
    "        for j in range(N-1,-1,-1):\n",
    "            one_comp_dec+=int(neg_val[j])*pow(2,N-1-j)\n",
    "        print(bin(one_comp_dec+1)[2:])  \n",
    "    pass\n",
    "twosc(-10)"
   ]
  },
  {
   "cell_type": "markdown",
   "id": "155e6c64",
   "metadata": {},
   "source": [
    "- Python bin() function returns the binary string of a given integer.\n",
    "- As we require to have N bits in binary number, I got the binary string from the bin() function and using rjust function we are aligning the returned string right to the field having thickness N and filling the left most part with '0'.\n",
    "- In this way I got a 16 bit binary number for the positive values of x.\n",
    "- For the negative values of x, we need to find the 2's complement of the x.\n",
    "- Before finding 2's complement of x, I found one's complement of it's corresponding positive value by doing XOR function of each bit with 1 using bitwise operator '^'. This is different from the one in f-strings.\n",
    "- One's complement is stored in neg_val but in the form of a list.\n",
    "- Then we need to do binary addition of one's complement and 1, to find 2's complement.\n",
    "- This is equivalent to adding 1 to the decimal form of one's complement and the binary form of the result is 2's complement of the negative number.\n",
    "- To convert neg_val to the decimal form, I used a for loop.\n",
    "- bin(..)[2:] : Here slicing is done to avoid 0b term in the returned value."
   ]
  },
  {
   "cell_type": "markdown",
   "id": "d9845f63",
   "metadata": {},
   "source": [
    "# List comprehensions and decorators"
   ]
  },
  {
   "cell_type": "code",
   "execution_count": 13,
   "id": "9f573a70-d7f0-4496-926f-34b7cff5492f",
   "metadata": {},
   "outputs": [
    {
     "data": {
      "text/plain": [
       "[0, 4, 16, 36, 64]"
      ]
     },
     "execution_count": 13,
     "metadata": {},
     "output_type": "execute_result"
    }
   ],
   "source": [
    "# Explain the output you see below\n",
    "[x*x for x in range(10) if x%2 == 0]"
   ]
  },
  {
   "cell_type": "markdown",
   "id": "75e223e9",
   "metadata": {},
   "source": [
    "- The above is a list data type as it is using [] brackets.\n",
    "- Here we are returning a list of squares of even numbers ranging from 0 to 9"
   ]
  },
  {
   "cell_type": "code",
   "execution_count": 14,
   "id": "d34ddb81-5caf-40a7-ac1f-43ce08d64220",
   "metadata": {},
   "outputs": [
    {
     "data": {
      "text/plain": [
       "[1, 2, 3, 4, 5, 6, 7, 8, 9]"
      ]
     },
     "execution_count": 14,
     "metadata": {},
     "output_type": "execute_result"
    }
   ],
   "source": [
    "# Explain the output you see below\n",
    "matrix = [[1,2,3], [4,5,6], [7,8,9]]\n",
    "[v for row in matrix for v in row]"
   ]
  },
  {
   "cell_type": "markdown",
   "id": "6b4fd10d",
   "metadata": {},
   "source": [
    "- This is a case of multidimensional array. matrix shown above is 3x3 dimensional array.\n",
    "- The second line of the code is representing a list.\n",
    "- This is returning a list of all elements in all the sub list of the matrix one after the other."
   ]
  },
  {
   "cell_type": "code",
   "execution_count": 15,
   "id": "e7349601-a068-4d91-bc0f-bcc755c4b215",
   "metadata": {},
   "outputs": [
    {
     "name": "stdout",
     "output_type": "stream",
     "text": [
      "1 2 3 5 7 11 13 17 19 23 29 31 37 41 43 47 53 59 61 67 71 73 79 83 89 97 "
     ]
    }
   ],
   "source": [
    "# Define a function `is_prime(x)` that will return True if a number \n",
    "# is prime, or False otherwise.\n",
    "# Use it to write a one-line statement that will print all \n",
    "# prime numbers between 1 and 100\n",
    "def is_prime(x):\n",
    "    if x<1 : return False\n",
    "    for i in range(2,x):\n",
    "        if x%i==0:\n",
    "            return False\n",
    "    return True\n",
    "for i in range(1,101):\n",
    "    if is_prime(i): print(i,end=' ')"
   ]
  },
  {
   "cell_type": "markdown",
   "id": "c1d2bfee",
   "metadata": {},
   "source": [
    "- def key word is used to define the function. The name of the function is 'is_prime' and the parameter is x.\n",
    "- Prime number is the number which is divisible by one and itself.\n",
    "- So we are using a for loop to check whether the given number is divisible the numbers ranging from 2 to x-1(if x is the given number).\n",
    "- If x is divisble by any number, then the is_prime function returns False.\n",
    "- If it is not divisible by any of the numbers from 2 to x-1, then is_prime function returns True.\n",
    "- For a range of numbers, we are checking whether the number is prime by passing the number through is_prime function and the result is used as an if condition.\n",
    "- In this way, only the primes are printed and and every number is ended witha space using 'end' attribute in python function.\n",
    "- Function definitions cannot be empty, but if you for some reason have a function definition with no content, put in the 'pass' statement to avoid getting an error."
   ]
  },
  {
   "cell_type": "code",
   "execution_count": 1,
   "id": "3dd1087b-f384-41a2-88d8-6788336d2291",
   "metadata": {},
   "outputs": [
    {
     "name": "stdout",
     "output_type": "stream",
     "text": [
      "Hello happy flappy world\n"
     ]
    }
   ],
   "source": [
    "# Explain the output below\n",
    "def f1(x):\n",
    "    return \"happy \" + x\n",
    "def f2(f):\n",
    "    def wrapper(*args, **kwargs):\n",
    "        return \"Hello \" + f(*args, **kwargs) + \" world\"\n",
    "    return wrapper\n",
    "f3 = f2(f1)\n",
    "print(f3(\"flappy\"))"
   ]
  },
  {
   "cell_type": "markdown",
   "id": "9a4f8862",
   "metadata": {},
   "source": [
    "- Here the result of f3(\"flappy\") is printed.\n",
    "- Given, f3=f2(f1).\n",
    "- Let x be the parameter given to f3 then, f3(x)=f2(f1(x))\n",
    "- \"flappy\" is the parameter of f1.\n",
    "- f1 funtion returns the concatenated string of \"happy \" and \"flappy\"\n",
    "- the first parameter in wrapper function represents variable length non-key word argument and **kwargs represent  variable key word arguments.\n",
    "- As there is no key word, *args='happy flappy',result of f1(\"flappy\"). And f=f1.\n",
    "- The result of f3(\"flappy\")=result of f2 where f=f1 and *args=\"happy flappy\".\n",
    "- The result is concatenation of \"Hello \",\"happy flappy\" and \" world\"."
   ]
  },
  {
   "cell_type": "code",
   "execution_count": 7,
   "id": "ede870a7-6564-4930-9ff1-818f075c3e43",
   "metadata": {},
   "outputs": [
    {
     "name": "stdout",
     "output_type": "stream",
     "text": [
      "Hello nappy flappy world\n"
     ]
    }
   ],
   "source": [
    "# Explain the output below\n",
    "@f2\n",
    "def f4(x):\n",
    "    return \"nappy \" + x\n",
    "\n",
    "print(f4(\"flappy\"))"
   ]
  },
  {
   "cell_type": "markdown",
   "id": "0a6f66c5",
   "metadata": {},
   "source": [
    "- Here the result of f4 is passed as an argument for f2.\n",
    "- The result of f4(\"flappy\") is \"nappy flappy\".\n",
    "- If we pass this result as an argument for f2, it returns \"Hello nappy flappy world\"."
   ]
  },
  {
   "cell_type": "markdown",
   "id": "de144cc1-a06a-4e96-8017-7887296dddc0",
   "metadata": {},
   "source": [
    "# File IO"
   ]
  },
  {
   "cell_type": "code",
   "execution_count": 18,
   "id": "09e62f52-fec6-4026-a4d8-ca4b87b19732",
   "metadata": {},
   "outputs": [],
   "source": [
    "# Write a function to generate prime numbers from 1 to N (input)\n",
    "# and write them to a file (second argument).  You can reuse the prime\n",
    "# detection function written earlier.\n",
    "def write_primes(N, filename):\n",
    "    file=open(filename,'w')\n",
    "    for i in range(1,N+1):\n",
    "        if is_prime(i):\n",
    "            file.write(str(i)+\" \")\n",
    "    file.close()\n",
    "    pass\n",
    "write_primes(100,\"week\")"
   ]
  },
  {
   "cell_type": "markdown",
   "id": "8fa38bf8",
   "metadata": {},
   "source": [
    "- 'open' function is used to open the file. It takes file name and mode of opertion.\n",
    "- Here the mode of operation is write, which is denoted by 'w' character.\n",
    "- If the file already contains some data then it will be overridden but if the file is not present then it creates the file as well.\n",
    "- 'write' function writes the text in to the file.\n",
    "- Here, we need to generate prime numbers from 1 to N. I used is_prime function which we defined earlier.\n",
    "- In that way, we can write the prime numbers from 1 to N to the file. "
   ]
  },
  {
   "cell_type": "markdown",
   "id": "9b2de5cb-13c3-4804-9576-e7bb6fd3a371",
   "metadata": {},
   "source": [
    "# Exceptions"
   ]
  },
  {
   "cell_type": "code",
   "execution_count": 19,
   "id": "eec5626e-6e92-45bf-b307-2459de0f44e1",
   "metadata": {},
   "outputs": [
    {
     "name": "stdout",
     "output_type": "stream",
     "text": [
      "Enter a number: 4\n",
      "4 is not a prime number.\n"
     ]
    }
   ],
   "source": [
    "# Write a function that takes in a number as input, and prints out \n",
    "# whether it is a prime or not.  If the input is not an integer,\n",
    "# print an appropriate error message.  Use exceptions to detect problems.\n",
    "def check_prime(x):\n",
    "    try:\n",
    "        x=int(x)\n",
    "        if is_prime(x):\n",
    "            print(f\"{x} is a prime number.\")\n",
    "        else: print(f\"{x} is not a prime number.\")\n",
    "    except:\n",
    "        print(f\"{x} is not an integer.Please enter an integer.\")\n",
    "    pass\n",
    "x = input('Enter a number: ')\n",
    "check_prime(x)"
   ]
  },
  {
   "cell_type": "markdown",
   "id": "c4c444e3",
   "metadata": {},
   "source": [
    "- Try and except statements are used to catch and handle exceptions in Python.\n",
    "- Statements that can raise exceptions are kept inside the try clause and the statements that handle the exception are written inside except clause.\n",
    "- we have is_prime function inside the try cluase, as it can only takes integers.\n",
    "- If x is not an integer it executes \"except\" clause.\n",
    "- If x is an integer, it executes 'try' clause i.e,it checks whether x is prime using is_prime functionwhich is define before.\n",
    "- Accordingly it prints whether x is a prime number or not a prime number (if x is an integer)."
   ]
  },
  {
   "cell_type": "markdown",
   "id": "166d561f",
   "metadata": {},
   "source": [
    "Note : If we use a user defined function in one cell in the other cell, We need to run the cell where the functuon if is defined before running the cell where it is used. If not u will get a compilation error that the respective function is not defined. "
   ]
  },
  {
   "cell_type": "markdown",
   "id": "e441c2de",
   "metadata": {},
   "source": [
    "- This is an .ipynb file, which we can run in Jupyter notebook or Jupyter lab.\n",
    "- In Jupyter lab, we need to upload this document to the workspace and start editting and running.\n",
    "- In jupyter notebook, which is a local host of our pc, we need to know where the file is located, opening this file is same as we do in file manager.\n",
    "- To open in jupyter notebook, first we need to unzip the file i.e., extract all the files from it and open the ipynb file."
   ]
  }
 ],
 "metadata": {
  "authors": [
   {
    "name": "Kalakonda Rohini EE21B066"
   }
  ],
  "kernelspec": {
   "display_name": "Python 3 (ipykernel)",
   "language": "python",
   "name": "python3"
  },
  "language_info": {
   "codemirror_mode": {
    "name": "ipython",
    "version": 3
   },
   "file_extension": ".py",
   "mimetype": "text/x-python",
   "name": "python",
   "nbconvert_exporter": "python",
   "pygments_lexer": "ipython3",
   "version": "3.9.12"
  },
  "title": "EE2703 - Week 1",
  "toc-autonumbering": true,
  "vscode": {
   "interpreter": {
    "hash": "b0fa6594d8f4cbf19f97940f81e996739fb7646882a419484c72d19e05852a7e"
   }
  }
 },
 "nbformat": 4,
 "nbformat_minor": 5
}
