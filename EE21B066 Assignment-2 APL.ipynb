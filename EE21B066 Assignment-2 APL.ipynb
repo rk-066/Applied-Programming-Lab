{
 "cells": [
  {
   "cell_type": "markdown",
   "id": "92431919",
   "metadata": {},
   "source": [
    "# Assignment\n"
   ]
  },
  {
   "cell_type": "markdown",
   "id": "2fe7025e",
   "metadata": {},
   "source": [
    "The following are the problems you need to solve for this assignment. You need to submit your code (either as standalone Python script or a Python notebook), a PDF document explaining your solution (either generated from the notebook or a separate LaTeX document), and any supporting files you may have (such as circuit netlists you used for testing your code).\n",
    "\n",
    "- Write a function to find the factorial of N (N being an input) and find the time taken to compute it. This will obviously depend on where you run the code and which approach you use to implement the factorial. Explain your observations briefly.\n",
    "\n",
    "- Write a linear equation solver that will take in matrices  𝐴 and  𝑏 as inputs, and return the vector 𝑥 that solves the equation  𝐴𝑥=𝑏. Your function should catch errors in the inputs and return suitable error messages for different possible problems.\n",
    "  - Time your solver to solve a random  10×10 system of equations. Compare the time taken against the numpy.linalg.solve function for the same inputs.\n",
    "\n",
    "- Given a circuit netlist in the form described above, read it in from a file, construct the appropriate matrices, and use the solver you have written above to obtain the voltages and currents in the circuit. If you find AC circuits hard to handle, first do this for pure DC circuits, but you should be able to handle both voltage and current sources."
   ]
  },
  {
   "cell_type": "markdown",
   "id": "18d4c59c",
   "metadata": {},
   "source": [
    "## Files\n",
    "\n",
    "You can read from a file using the `readlines()` method of file objects.  One thing to keep in mind is how you open and close file objects.  In particular, it is strongly recommended to use the pattern `with open(\"filename\") as f:` to ensure that the file is closed once you are done with reading it.  "
   ]
  },
  {
   "cell_type": "markdown",
   "id": "54aa6501",
   "metadata": {},
   "source": [
    "### Problem 1"
   ]
  },
  {
   "cell_type": "code",
   "execution_count": 1,
   "id": "d8228ffe",
   "metadata": {},
   "outputs": [],
   "source": [
    "import numpy as np #for arrays\n",
    "import cmath # for complex numbers\n",
    "pi=cmath.pi"
   ]
  },
  {
   "cell_type": "code",
   "execution_count": 4,
   "id": "54d5220c",
   "metadata": {},
   "outputs": [
    {
     "name": "stdout",
     "output_type": "stream",
     "text": [
      "120\n",
      "513 ns ± 11.7 ns per loop (mean ± std. dev. of 7 runs, 1,000,000 loops each)\n"
     ]
    }
   ],
   "source": [
    "#Using recursion : to find the factorial of the given number\n",
    "def factorial(x):\n",
    "    if x==0 or x==1: return 1\n",
    "    else : return x*factorial(x-1)\n",
    "n=5\n",
    "print(factorial(n))\n",
    "%timeit factorial(n)"
   ]
  },
  {
   "cell_type": "code",
   "execution_count": 5,
   "id": "b2c756c8",
   "metadata": {},
   "outputs": [
    {
     "name": "stdout",
     "output_type": "stream",
     "text": [
      "120\n",
      "385 ns ± 23.9 ns per loop (mean ± std. dev. of 7 runs, 1,000,000 loops each)\n"
     ]
    }
   ],
   "source": [
    "#Using for loop : to find the factorial of the given number\n",
    "def facto(x):\n",
    "    res=1\n",
    "    if x==1 or x==0:\n",
    "        return res\n",
    "    for i in range(x,0,-1):\n",
    "        res*=i\n",
    "    return res\n",
    "print(facto(n))    \n",
    "%timeit facto(n)"
   ]
  },
  {
   "cell_type": "markdown",
   "id": "b15567b3",
   "metadata": {},
   "source": [
    "- factorial function is taking a lot of time compared to facto function.\n",
    "- timeit value is not being constant even the input is unchanged.\n",
    "- Change in their respective timeit values for every run is not large ."
   ]
  },
  {
   "cell_type": "markdown",
   "id": "b4bd4d15",
   "metadata": {},
   "source": [
    "### Problem 2"
   ]
  },
  {
   "cell_type": "code",
   "execution_count": 6,
   "id": "bd0f774e",
   "metadata": {},
   "outputs": [],
   "source": [
    "# generating 10x10 matrix and 10x1 matrix having random values usind np.random.rand() function. Inputs are dimensions \n",
    "P=np.random.rand(10,10)\n",
    "q=np.random.rand(10)\n"
   ]
  },
  {
   "cell_type": "code",
   "execution_count": 7,
   "id": "732fae6e",
   "metadata": {},
   "outputs": [],
   "source": [
    "def gauss(A,b):\n",
    "    try:\n",
    "        if type(A)!=list:\n",
    "            A=A.tolist()\n",
    "        if type(b)!=list:b=b.tolist()# making sure that the inputs are lists if not converting them to lists.\n",
    "    except: return \"Error! A has to be a square matrix and b has to be a column matrix and len(A) should be equal to len(b)\"\n",
    "    if len(A)!=len(b): return \"Error! no.of elements in A has to be equal to no. of elements in b\"\n",
    "    arg_mat=(A.copy())\n",
    "    #creatiing argumented matrix of A and b i.e., arg_mat=[A|b]\n",
    "    for i in range(len(arg_mat)):\n",
    "        arg_mat[i].append(b[i])  \n",
    "    i=0 # step 1\n",
    "    while i<len(A):\n",
    "        if arg_mat[i][i]!=0 :\n",
    "            n=arg_mat[i][i]\n",
    "            for j in range(len(A)+1): #making the the [i][i]th element as 1 if it is non zero.\n",
    "                arg_mat[i][j]/=n\n",
    "        else :\n",
    "            count=0\n",
    "            #step 4\n",
    "            for k in range(i+1,len(A)):\n",
    "                if arg_mat[k][i]!=0:\n",
    "                    arg_mat[k],arg_mat[i]=arg_mat[i],arg_mat[k] \n",
    "                    count+=1\n",
    "                    break\n",
    "            #step 5\n",
    "            if count==0: \n",
    "                arg_mat[-1],arg_mat[i]=arg_mat[i],arg_mat[-1] \n",
    "                i+=1\n",
    "                continue\n",
    "            #step 2\n",
    "            for j in range(len(A)+1):\n",
    "                n=arg_mat[i][i]\n",
    "                arg_mat[i][j]=(arg_mat[i][j]/n)\n",
    "            #step 3 \n",
    "        for p in range(len(A)):\n",
    "            if p!=i:\n",
    "                norm=arg_mat[p][i]\n",
    "                for l in range(len(A)+1):\n",
    "                    arg_mat[p][l]-=(norm)*arg_mat[i][l]\n",
    "        i+=1 #step 6\n",
    "   # print(\"The row reduced echlon form of the given system of equations is \")\n",
    "   # print(arg_mat)\n",
    "    sol=[0 for i in range(len(A))]\n",
    "    for i in range(len(A)):\n",
    "        A_part=arg_mat[i][:-1]\n",
    "        b_part=arg_mat[i][-1]\n",
    "        if A_part==[0 for i in range(len(A))] and b_part==0: # step 8\n",
    "            return \"infinitely many solutions\"\n",
    "        elif A_part==[0 for i in range(len(A))] and b_part!=0: #step 9\n",
    "            return \"no solution\"\n",
    "    #step 7\n",
    "    for i in range(len(A)):\n",
    "        for j in range(len(A)):\n",
    "            if arg_mat[i][j]==1:\n",
    "                sol[j]=arg_mat[i][-1]\n",
    "    # print(\"the solution is\")\n",
    "    return sol"
   ]
  },
  {
   "cell_type": "markdown",
   "id": "49853ee4",
   "metadata": {},
   "source": [
    "- I have written the above function based on the different attributes of list.\n",
    "- Inputs for the given function are two matrices :\n",
    "    1. A = matrix containing the coefficients of system of equations.\n",
    "    2. b= matrix of constant terms in the order how the coefficients are     arranged in A\n",
    "- So, in the beginning of the code we are checking whether the given input is list.\n",
    "- If it is not a list,we are converting it into a list using .tolist() function.\n",
    "- As we have seen, the inputs are randomly generated using np.random.rand() function. So, it returns a numpy.ndarray.\n",
    "- .tolist() helps converting the given input to a list.\n",
    "- .tolist() function can't be used for list. So, the type of the input is checked.\n",
    "- In order to create argumented matrix, I have copied A to arg_mat and every row of it is appended with the corresponding element of b.\n",
    "- The remaining code is used to convert arg_mat into a row reduced echlon form.\n",
    "- Row reduced echlon form is nothing but argumented matrix of Identity matrix and corresponding reduced b matrix.\n",
    "- We need to make all the non diagonal elements as zeros and diagonal entries as 1 using Row operations.\n",
    "- There are three kinds of row operations:\n",
    "    -  Interchange rows. (Notation:  Ri↔Rj)\n",
    "    - Multiply a row by a constant. (Notation:cRi)\n",
    "    - Add the product of a row multiplied by a constant to another row. (Notation:  Ri+cRj)\n",
    "- To create a diagonal matrix, take a column and make the elements which doesn't belong to diagonal of NxN matrix in arg_mat, I followed the following steps:\n",
    "1. First take the first row (i=0), the diagonal element in that row is arg_mat[0][0] (The diagonal elements in a row i is arg_mat[i][i]).\n",
    "2. To make the norm of arg_mat[i][i] element in the row i as 1 I divided the every element of the row with arg_mat[i][i]\n",
    "3. To make the non diagonal elements of another rows corresponding to the ith column, we use third row operation with c=-arg_mat[j][i] to make the jth element in the ith column zero.\n",
    "4. If we come across arg_mat[i][i]==0, we can swap that row with the row whose ith element is non zero.\n",
    "5. If there is no row which has the ith element as non zero, I swaped that row with last row of the arg_mat and going for the next diagonal element by incrementing i.\n",
    "6. Increment i after u finish the above process till N.\n",
    "7. If the system of equations has a unique solution, we get an argumented matrix of identity matrix and the solution of that system of equation. The solution is stored in sol and it is returned .\n",
    "8. If the system is having infinitely many solutions, one of the row of row reduced echlon form of the argumented matrix is a zero row, then the function returns \"infinitely many solutions\".\n",
    "9. If the system is having a row with all zeros except the last element of it, then it has no solution. The function returns \"no solution\""
   ]
  },
  {
   "cell_type": "code",
   "execution_count": 8,
   "id": "a456cf85",
   "metadata": {},
   "outputs": [
    {
     "data": {
      "text/plain": [
       "[-1.3191635450145374,\n",
       " 1.032140809724036,\n",
       " 1.999566077009761,\n",
       " -1.3148974564056366,\n",
       " -1.286569918360347,\n",
       " 0.30004757304807883,\n",
       " 0.9729596035460759,\n",
       " 0.43219294149768683,\n",
       " 0.16041603186591533,\n",
       " 0.2788193002710839]"
      ]
     },
     "execution_count": 8,
     "metadata": {},
     "output_type": "execute_result"
    }
   ],
   "source": [
    "gauss(P,q)"
   ]
  },
  {
   "cell_type": "code",
   "execution_count": 9,
   "id": "57429ed7",
   "metadata": {},
   "outputs": [
    {
     "data": {
      "text/plain": [
       "array([-1.31916355,  1.03214081,  1.99956608, -1.31489746, -1.28656992,\n",
       "        0.30004757,  0.9729596 ,  0.43219294,  0.16041603,  0.2788193 ])"
      ]
     },
     "execution_count": 9,
     "metadata": {},
     "output_type": "execute_result"
    }
   ],
   "source": [
    "np.linalg.solve(P,q)"
   ]
  },
  {
   "cell_type": "code",
   "execution_count": 10,
   "id": "e083b663",
   "metadata": {},
   "outputs": [
    {
     "name": "stdout",
     "output_type": "stream",
     "text": [
      "145 µs ± 1.12 µs per loop (mean ± std. dev. of 7 runs, 10,000 loops each)\n"
     ]
    }
   ],
   "source": [
    "%timeit gauss(P,q)"
   ]
  },
  {
   "cell_type": "code",
   "execution_count": 11,
   "id": "6ae99a89",
   "metadata": {},
   "outputs": [
    {
     "name": "stdout",
     "output_type": "stream",
     "text": [
      "5.48 µs ± 27.3 ns per loop (mean ± std. dev. of 7 runs, 100,000 loops each)\n"
     ]
    }
   ],
   "source": [
    "%timeit np.linalg.solve(P,q)"
   ]
  },
  {
   "cell_type": "markdown",
   "id": "0089b49c",
   "metadata": {},
   "source": [
    "- np.linalg.solve() is taking nearly 26 times less time taken by gauss() function\n",
    "- For np.linalg.solve() timeit magic line undergone 7 runs 100,000 loops each, where gauss() has undergone 7 runs 10,000 loops each, which is very less compared to the previous function."
   ]
  },
  {
   "cell_type": "markdown",
   "id": "fa6005a1",
   "metadata": {},
   "source": [
    "### Problem 3"
   ]
  },
  {
   "cell_type": "code",
   "execution_count": 17,
   "id": "2ca8020c",
   "metadata": {},
   "outputs": [],
   "source": [
    "def to_dec(s):\n",
    "    e_pos=0\n",
    "    for j in range(len(s)):\n",
    "        if s[j]=='e':\n",
    "            e_pos=j\n",
    "            break\n",
    "    return int(s[:j])*pow(10,int(s[j+1:]))\n",
    "\n",
    "def ckt(filename):\n",
    "    f=open(filename,'r') #step 1: to read file\n",
    "    lis=[]\n",
    "    for each in f:     #step 2: to store the contents of file into list\n",
    "        lis.append(each.split())\n",
    "    f.close()\n",
    "    start=0\n",
    "    end=0\n",
    "    freq=0\n",
    "# to remove junk , .circuit and .end i.e., taking only components of the circuit\n",
    "    for i in range(len(lis)): #step 3\n",
    "        if lis[i]==['.circuit']:\n",
    "            start=i\n",
    "        if lis[i]==[\".end\"]:\n",
    "            end=i\n",
    "        if lis[i]!=[]: \n",
    "            if lis[i][0]==\".ac\": freq=2*pi*int(lis[i][2]) #converting the given frequency to angular frequency\n",
    "    lis=lis[start+1:end] #step 4\n",
    "#step 5 : to remove comments\n",
    "    for i in range(len(lis)):\n",
    "        com=0\n",
    "        for j in range(len(lis[i])):\n",
    "            if lis[i][j][0]==\"#\":\n",
    "                com=j\n",
    "        if com!=0:lis[i]=lis[i][:com]\n",
    "    #step 6: finding all the nodes and total no. of voltage sources\n",
    "    nodes=[]\n",
    "    nv=0\n",
    "    for i in range(len(lis)):\n",
    "        if lis[i][0][0]==\"V\": nv+=1\n",
    "        if lis[i][1]=='GND': lis[i][1]='0'\n",
    "        if lis[i][2]=='GND': lis[i][2]='0'\n",
    "        if lis[i][1] not in nodes:\n",
    "            nodes.append(lis[i][1])\n",
    "        if lis[i][2] not in nodes:\n",
    "            nodes.append(lis[i][2])\n",
    "    nodes.remove('0')\n",
    "    #step 7 : creating coefficient and constant matrices\n",
    "    A=[[complex(0) for i in range(len(nodes)+nv)] for j in range(len(nodes)+nv)]\n",
    "    b=[0 for j in range(len(nodes)+nv)]\n",
    "    k=0\n",
    "    #step 8 : analysing elements in the matrices and making appropriate changes in the matrices\n",
    "    for j in range(len(lis)):\n",
    "        n=lis[j][1]\n",
    "        m=lis[j][2]\n",
    "        if n.isdigit() :n=int(lis[j][1])\n",
    "        else : n=int(lis[j][1][1:]) #line 1\n",
    "        if m.isdigit() :m=int(lis[j][2])\n",
    "        else : m=int(lis[j][2][1:])\n",
    "        if lis[j][0][0]=='R': # for resistor\n",
    "            if n!=0 and m!=0:\n",
    "                n-=1\n",
    "                m-=1\n",
    "                if lis[j][3].isdigit():\n",
    "                    A[n][n]+=(1/int(lis[j][3]))\n",
    "                    if n!=m:\n",
    "                        A[n][m]-=(1/int(lis[j][3]))\n",
    "                        A[m][n]-=(1/int(lis[j][3]))\n",
    "                        A[m][m]+=(1/int(lis[j][3]))\n",
    "                else:\n",
    "                    A[n][n]+=(1/to_dec(lis[j][3]))\n",
    "                    if n!=m:\n",
    "                        A[n][m]-=(1/to_dec(lis[j][3]))\n",
    "                        A[m][n]-=(1/to_dec(lis[j][3]))\n",
    "                        A[m][m]+=(1/to_dec(lis[j][3]))\n",
    "            elif n==0:\n",
    "                if lis[j][3].isdigit(): A[m-1][m-1]+=(1/int(lis[j][3]))\n",
    "                else : A[m-1][m-1]+=(1/to_dec(lis[j][3]))\n",
    "            elif m==0:\n",
    "                if lis[j][3].isdigit(): A[n-1][n-1]+=(1/int(lis[j][3]))\n",
    "                else : A[n-1][n-1]+=(1/to_dec(lis[j][3]))\n",
    "        elif lis[j][0][0]=='L': # for inductors\n",
    "            if n!=0 and m!=0:\n",
    "                n-=1\n",
    "                m-=1\n",
    "                if lis[j][3].isdigit():\n",
    "                    A[n][n]+=(1/(int(lis[j][3])*freq*(1j)))\n",
    "                    if n!=m:\n",
    "                        A[n][m]-=(1/(int(lis[j][3])*freq*(1j)))\n",
    "                        A[m][n]-=(1/(int(lis[j][3])*freq*(1j)))\n",
    "                        A[m][m]+=(1/(int(lis[j][3])*freq*(1j)))\n",
    "                else:\n",
    "                    A[n][n]+=(1/to_dec(lis[j][3]))\n",
    "                    if n!=m:\n",
    "                        A[n][m]-=(1/(to_dec(lis[j][3])*freq*(1j)))\n",
    "                        A[m][n]-=(1/(to_dec(lis[j][3])*freq*(1j)))\n",
    "                        A[m][m]+=(1/(to_dec(lis[j][3])*freq*(1j)))\n",
    "            elif n==0:\n",
    "                if lis[j][3].isdigit(): A[m-1][m-1]+=(1/(int(lis[j][3])*freq*(1j)))\n",
    "                else : A[m-1][m-1]+=(1/(to_dec(lis[j][3])*freq*(1j)))\n",
    "            elif m==0:\n",
    "                if lis[j][3].isdigit(): A[n-1][n-1]+=(1/(int(lis[j][3])*freq*(1j)))\n",
    "                else : A[n-1][n-1]+=(1/(to_dec(lis[j][3])*freq*(1j)))\n",
    "        elif lis[j][0][0]=='C': # for capacitors\n",
    "            if n!=0 and m!=0:\n",
    "                n-=1\n",
    "                m-=1\n",
    "                if lis[j][3].isdigit():\n",
    "                    A[n][n]+=((int(lis[j][3])*freq*(1j)))\n",
    "                    if n!=m:\n",
    "                        A[n][m]-=((int(lis[j][3])*freq*(1j)))\n",
    "                        A[m][n]-=((int(lis[j][3])*freq*(1j)))\n",
    "                        A[m][m]+=((int(lis[j][3])*freq*(1j)))\n",
    "                else:\n",
    "                    A[n][n]+=(to_dec(lis[j][3]))\n",
    "                    if n!=m:\n",
    "                        A[n][m]-=(to_dec(lis[j][3])*freq*(1j))\n",
    "                        A[m][n]-=(to_dec(lis[j][3])*freq*(1j))\n",
    "                        A[m][m]+=(to_dec(lis[j][3])*freq*(1j))\n",
    "            elif n==0:\n",
    "                if lis[j][3].isdigit(): A[m-1][m-1]+=cmath.rect(freq*int(lis[j][3]),pi/2)\n",
    "                else : A[m-1][m-1]+=((to_dec(lis[j][3])*freq*(1j)))\n",
    "            elif m==0:\n",
    "                if lis[j][3].isdigit(): A[n-1][n-1]+=((int(lis[j][3])*freq*(1j)))\n",
    "                else : A[n-1][n-1]+=((to_dec(lis[j][3])*freq*(1j)))\n",
    "        elif lis[j][0][0]=='V': #for voltage sources n1(n) is positive n2(m) is negative\n",
    "            if m!=0:           #current through voltage source is directed from n1(n) to n2(m)\n",
    "                m-=1\n",
    "                A[len(nodes)+k][m]-=1\n",
    "                A[m][len(nodes)+k]-=1\n",
    "            if n!=0:\n",
    "                n-=1\n",
    "                A[len(nodes)+k][n]+=1\n",
    "                A[n][len(nodes)+k]+=1\n",
    "            if lis[j][3]==\"dc\" : b[len(nodes)+k]+=int(lis[j][4])\n",
    "            elif lis[j][3]==\"ac\" :b[len(nodes)+k]+=cmath.rect(int(lis[j][4]),int(lis[j][5]))\n",
    "            k+=1\n",
    "        elif lis[j][0][0]=='I': # for current sources flowing from n2 to n1 i.e.s flowing into n1 and out of n2\n",
    "            if m!=0:\n",
    "                m-=1\n",
    "                if lis[j][3]==\"dc\" :b[m]-=int(lis[j][4])\n",
    "                elif lis[j][3]==\"ac\" : b[m]-=cmath.rect(int(lis[j][4]),int(lis[j][5]))\n",
    "            if n!=0:\n",
    "                n-=1\n",
    "                if lis[j][3]==\"dc\" :b[n]+=int(lis[j][4])\n",
    "                elif lis[j][3]==\"ac\" :b[n]+=cmath.rect(int(lis[j][4]),int(lis[j][5]))\n",
    "    return gauss(A,b)      #step 9 : To find the soltion of the matrices   "
   ]
  },
  {
   "cell_type": "markdown",
   "id": "269448ed",
   "metadata": {},
   "source": [
    "##### def to_dec function\n",
    "- This function is used to convert 'men' represenation into m*pow(10,n). Input is a string.\n",
    "- For find the index at which the value is equal to 'e' and slice the string accordingly.\n",
    "- m will be the part before the 'e' and has to be converted to intger using int() function. In the same way n will be the the part after the 'e' and convert it into an integer and return the result as mentioned in the first point i.e., m*pow(10,n)"
   ]
  },
  {
   "cell_type": "markdown",
   "id": "28c94be2",
   "metadata": {},
   "source": [
    "#### def ckt function\n",
    "- Input is a file name. That file should be a netlist.\n",
    "- Output is formatted as all the nodal voltages in ascending order(voltages at n1,n2,n3..) and currents passing through voltage sources in the order they have given in the netlist.\n",
    "- For DC circuit freq=frequency at which circuit is being operated =0 and for AC it is non zero.\n",
    "1. Open the file in the reading mode using open() function and read the entire contents of file into lis[] list.\n",
    "2. Take every line as list in which the elements are splitted when there is a space between them using split() function and append it to the lis[] list.\n",
    "3. This lis list may contain some junk and comments which we don't want.Using a loop we found the indices of '.circuit' and '.end'.Simaltaneously, I checked whether the source is AC by searching for '.ac' and took the frequency to the freq variable.\n",
    "-  According to SPICE synatx all the elements will be in between '.ciruit' and '.end' and if the source is ac the frequency of it will be mentioned after the .end with a beginning of '.ac'.\n",
    "4. By finding the indices of '.ciruit' and '.end' , I sliced the list such that it contains only elements with comments. \n",
    "5. As we know that comments start with '#', I searched for it and noted the index of it and sliced accordingly.\n",
    "- Now, there is no junk and comments in the lis list.\n",
    "6. Now make a nodes list which contains all the distict nodes present in the circuit then remove '0' from it (as we are not going to write any nodal equation there). In the same loop replace 'GND' with '0' and count the no.of voltage sources.\n",
    "7. Here we are using \"Modified Nodal Analysis\" to construct coefficient matrix(A) and constant(b).\"A\" is a square matrix with dimension total no. of distinct nodes (excluding '0') and no. of voltage sources(i.e., len(nodes)+nv). Length of the \"b\" should be len(nodes)+nv. Create such lists having all the entries as zero\n",
    "8. For each list in lis, check whether the element is resistor(R) or inductor(L) or cpacitor(C) or voltage source(V) or current source(I) by checking the first letter of first element of sub list of lis list.\n",
    "   - Resistor : \n",
    "     1. For a resistor, if it is connected between two nodes let us suppose n1 and n2, let this resistor will appear in two KCL(Kirchoff's current law) equations taken at n1 and n2 and has a value R.\n",
    "     2. For KCL at n1, (1/R) will be added to the coefficient of V1(voltage at n1) and -(1/R) will be added to the cofficient of V2(voltage at n2 )\n",
    "     3. For KCL at n2, (1/R) will be added to the coefficient of V2(voltage at n2) and -(1/R) will be added to the cofficient of V1(voltage at n1 )\n",
    "   - Inductor :\n",
    "     1. It is same as resistor but here R=jLw where j=iota and L=inductance value and w=freq=frequency at which the circuit is being operated.\n",
    "   - Capacitor : \n",
    "     1. It is same as resistor but here R=(1/jCw) where C=capacitance, w=freq, j=iota\n",
    "   - Voltage source :\n",
    "     1. Check whether the voltage source is 'dc' or 'ac' by checking the fourth elementing of correcponding voltage component list.\n",
    "     2. If it is dc, the value of the voltage will be directly taken Or else we will be given with magnitude and phase of the source is given then it's value will be obtained by cmath.rect(magnitude,phase) function which converts the polar form of the complex number to its rectangular form.\n",
    "     3. If V1,n1,n2 is given then the positive terminal of V1 is at n1 and neagtive terminal at n2.Let it's value be V.\n",
    "     4. We assume that current I1 is flowing from n1 to n2.\n",
    "     5. As I1 is entering at n2, the coefficient corresponding to I1 is made -1  and as it is flowing out of n1, coefficient corresponding to I1 is made 1 in the corresponding rows.\n",
    "     6. And we have the difference between the voltages at n1 and n2 as V. So V is added to the row after all the constant corresponding to nodes are taken in the constant list (b). Corresponding to that row in the coefficient matrix(A) the columns correspinding to the voltages at n1 and n2 are made 1 and -1 respectively.\n",
    "   - Current source :    \n",
    "     1. Let's consider I1,n1,n2 is given and let it's value be I, then we assume that I is flowing into n1 and flowing out of n2.\n",
    "     2. Then we add I to the constant term corresponding to the n1 row and -I to the corresponding n2 row.\n",
    "9. After making all the changes to A,b corresponding to each element in lis list,send them as input to the gauss funtion which I have written before to find the solution system of linear equations.\n",
    "- The solution of that function will be returned."
   ]
  },
  {
   "cell_type": "markdown",
   "id": "035db0f9",
   "metadata": {},
   "source": [
    "###### Note : \n",
    "- To indicate the value of R,L,C 'men' representation is used , So I checked whether the value according to the  SPICE syntax using isdigit() function which returns false if the string given to contains any character other than digits.\n",
    "- Wherever it is necessary, I used to_dec function to convert it into an integer.\n",
    "- As the indexing in the lists start from 0, the vlaues corresponding to the nodes are taken as integers and decreased by 1 if those integer values are not zero(n and m values in the code).\n",
    "- If the node is represented as n1 we are slicing out n as shown in the line 1 in the code."
   ]
  },
  {
   "cell_type": "code",
   "execution_count": 18,
   "id": "c123847a",
   "metadata": {},
   "outputs": [
    {
     "data": {
      "text/plain": [
       "[(-10+0j),\n",
       " (-5.029239766081871+0j),\n",
       " (-2.5730994152046778+0j),\n",
       " (-1.4035087719298247+0j),\n",
       " (-0.9356725146198832+0j),\n",
       " (-0.004970760233918129-0j)]"
      ]
     },
     "execution_count": 18,
     "metadata": {},
     "output_type": "execute_result"
    }
   ],
   "source": [
    "#for DC circuit\n",
    "ckt(\"ckt3.netlist\")"
   ]
  },
  {
   "cell_type": "markdown",
   "id": "4b90bc3b",
   "metadata": {},
   "source": [
    "- Result is in the form [V1,V2,V3,V4,I1]\n",
    "- V1=>Voltage at node 1\n",
    "- V2=>Voltage at node 2\n",
    "- V3=>Voltage at node 3\n",
    "- V4=>Voltage at node 4\n",
    "- V5=>Voltage at node 5\n",
    "- I1=>Current through voltage source V1"
   ]
  },
  {
   "cell_type": "code",
   "execution_count": 20,
   "id": "20451a75",
   "metadata": {},
   "outputs": [
    {
     "data": {
      "text/plain": [
       "[(-1.3332000884871046e-10+0.000816455782015824j)]"
      ]
     },
     "execution_count": 20,
     "metadata": {},
     "output_type": "execute_result"
    }
   ],
   "source": [
    "#for AC circuit\n",
    "ckt(\"ckt7.netlist\")"
   ]
  },
  {
   "cell_type": "markdown",
   "id": "77246dbf",
   "metadata": {},
   "source": [
    "- Here there is only one node and zero voltage sources.\n",
    "- Output: [V1]\n",
    "- V1=> Voltage at node 1"
   ]
  },
  {
   "cell_type": "markdown",
   "id": "7317ad59",
   "metadata": {},
   "source": [
    "###### NOTE:\n",
    "- First import the libraries which u require.\n",
    "- Run the user defined function before you use it in some other cell."
   ]
  },
  {
   "cell_type": "markdown",
   "id": "184b3c21",
   "metadata": {},
   "source": [
    "- This is an .ipynb file, which we can run in Jupyter notebook or Jupyter lab.\n",
    "- In Jupyter lab, we need to upload this document to the workspace and start editting and running.\n",
    "- In jupyter notebook, which is a local host of our pc, we need to know where the file is located, opening this file is same as we do in file manager.\n",
    "- To open in jupyter notebook, first we need to unzip the file i.e., extract all the files from it and open the ipynb file."
   ]
  }
 ],
 "metadata": {
  "kernelspec": {
   "display_name": "Python 3 (ipykernel)",
   "language": "python",
   "name": "python3"
  },
  "language_info": {
   "codemirror_mode": {
    "name": "ipython",
    "version": 3
   },
   "file_extension": ".py",
   "mimetype": "text/x-python",
   "name": "python",
   "nbconvert_exporter": "python",
   "pygments_lexer": "ipython3",
   "version": "3.9.12"
  },
  "vscode": {
   "interpreter": {
    "hash": "135c9c029983d30fe2c25215b219c39403965bc9bf9257a46b5d1e1e22d97d61"
   }
  }
 },
 "nbformat": 4,
 "nbformat_minor": 5
}
